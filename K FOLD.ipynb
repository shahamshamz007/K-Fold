{
 "cells": [
  {
   "cell_type": "code",
   "execution_count": 3,
   "id": "4176ba85-d4e0-432d-81d7-561b63aabaf2",
   "metadata": {},
   "outputs": [],
   "source": [
    "from sklearn.datasets import  load_iris\n",
    "from sklearn.model_selection import cross_val_score\n",
    "from sklearn.linear_model import LogisticRegression\n",
    "from sklearn.tree import DecisionTreeClassifier\n",
    "from sklearn.svm import SVC\n",
    "from sklearn.ensemble import RandomForestClassifier\n",
    "import numpy as np"
   ]
  },
  {
   "cell_type": "code",
   "execution_count": 5,
   "id": "b0ca2051-6f98-4440-b8de-b1bbcadcd469",
   "metadata": {},
   "outputs": [],
   "source": [
    "iris=load_iris()"
   ]
  },
  {
   "cell_type": "code",
   "execution_count": 9,
   "id": "69ccfdcf-e11d-4c33-b4ea-51f3d97c4235",
   "metadata": {},
   "outputs": [
    {
     "name": "stderr",
     "output_type": "stream",
     "text": [
      "C:\\Users\\Asus TUF\\anaconda3.0\\Lib\\site-packages\\sklearn\\linear_model\\_logistic.py:469: ConvergenceWarning: lbfgs failed to converge (status=1):\n",
      "STOP: TOTAL NO. of ITERATIONS REACHED LIMIT.\n",
      "\n",
      "Increase the number of iterations (max_iter) or scale the data as shown in:\n",
      "    https://scikit-learn.org/stable/modules/preprocessing.html\n",
      "Please also refer to the documentation for alternative solver options:\n",
      "    https://scikit-learn.org/stable/modules/linear_model.html#logistic-regression\n",
      "  n_iter_i = _check_optimize_result(\n"
     ]
    },
    {
     "data": {
      "text/plain": [
       "array([0.96666667, 1.        , 0.93333333, 0.96666667, 1.        ])"
      ]
     },
     "execution_count": 9,
     "metadata": {},
     "output_type": "execute_result"
    }
   ],
   "source": [
    "l_score=cross_val_score(LogisticRegression(),iris.data,iris.target)\n",
    "l_score"
   ]
  },
  {
   "cell_type": "code",
   "execution_count": 13,
   "id": "889e8c99-9bce-444e-9c80-20e972101f53",
   "metadata": {},
   "outputs": [
    {
     "data": {
      "text/plain": [
       "0.9733333333333334"
      ]
     },
     "execution_count": 13,
     "metadata": {},
     "output_type": "execute_result"
    }
   ],
   "source": [
    "np.average(l_scores)"
   ]
  },
  {
   "cell_type": "code",
   "execution_count": 17,
   "id": "7e583f27-1fe3-41fb-8174-4dd1489f07c7",
   "metadata": {},
   "outputs": [
    {
     "data": {
      "text/plain": [
       "array([0.96666667, 0.96666667, 0.9       , 0.93333333, 1.        ])"
      ]
     },
     "execution_count": 17,
     "metadata": {},
     "output_type": "execute_result"
    }
   ],
   "source": [
    "d_score=cross_val_score(DecisionTreeClassifier(),iris.data,iris.target)\n",
    "d_score"
   ]
  },
  {
   "cell_type": "code",
   "execution_count": 19,
   "id": "752b2e64-7f98-45d1-b6a9-eeec4250bf9b",
   "metadata": {},
   "outputs": [
    {
     "data": {
      "text/plain": [
       "0.9533333333333334"
      ]
     },
     "execution_count": 19,
     "metadata": {},
     "output_type": "execute_result"
    }
   ],
   "source": [
    "np.average(d_score)"
   ]
  },
  {
   "cell_type": "code",
   "execution_count": 21,
   "id": "b1840563-2df2-48d6-97de-0c9d1cb753a8",
   "metadata": {},
   "outputs": [
    {
     "data": {
      "text/plain": [
       "array([0.96666667, 0.96666667, 0.96666667, 0.93333333, 1.        ])"
      ]
     },
     "execution_count": 21,
     "metadata": {},
     "output_type": "execute_result"
    }
   ],
   "source": [
    "s_score=cross_val_score(SVC(),iris.data,iris.target)\n",
    "s_score"
   ]
  },
  {
   "cell_type": "code",
   "execution_count": 25,
   "id": "ea9e302c-258b-42af-b6a6-5476dfc1d753",
   "metadata": {},
   "outputs": [
    {
     "data": {
      "text/plain": [
       "0.9666666666666666"
      ]
     },
     "execution_count": 25,
     "metadata": {},
     "output_type": "execute_result"
    }
   ],
   "source": [
    "np.average(s_score)"
   ]
  },
  {
   "cell_type": "code",
   "execution_count": 23,
   "id": "cee071d7-0465-4777-9e58-01555b078c9f",
   "metadata": {},
   "outputs": [
    {
     "data": {
      "text/plain": [
       "array([0.96666667, 0.96666667, 0.93333333, 0.93333333, 1.        ])"
      ]
     },
     "execution_count": 23,
     "metadata": {},
     "output_type": "execute_result"
    }
   ],
   "source": [
    "r_score=cross_val_score(RandomForestClassifier(),iris.data,iris.target)\n",
    "r_score"
   ]
  },
  {
   "cell_type": "code",
   "execution_count": 27,
   "id": "36109840-c125-4122-bab7-9c5cb837fffc",
   "metadata": {},
   "outputs": [
    {
     "data": {
      "text/plain": [
       "0.96"
      ]
     },
     "execution_count": 27,
     "metadata": {},
     "output_type": "execute_result"
    }
   ],
   "source": [
    "np.average(r_score)"
   ]
  },
  {
   "cell_type": "code",
   "execution_count": null,
   "id": "e418813a-d279-4f73-bfe7-c604198dc5d6",
   "metadata": {},
   "outputs": [],
   "source": [
    "l_score have the most big value()()()()()()()()()()()()())()()()()()()()()"
   ]
  }
 ],
 "metadata": {
  "kernelspec": {
   "display_name": "Python 3 (ipykernel)",
   "language": "python",
   "name": "python3"
  },
  "language_info": {
   "codemirror_mode": {
    "name": "ipython",
    "version": 3
   },
   "file_extension": ".py",
   "mimetype": "text/x-python",
   "name": "python",
   "nbconvert_exporter": "python",
   "pygments_lexer": "ipython3",
   "version": "3.12.4"
  }
 },
 "nbformat": 4,
 "nbformat_minor": 5
}
